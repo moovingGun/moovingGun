{
  "nbformat": 4,
  "nbformat_minor": 0,
  "metadata": {
    "colab": {
      "provenance": [],
      "authorship_tag": "ABX9TyO7B4uTxMJRFichyut6Lf0T",
      "include_colab_link": true
    },
    "kernelspec": {
      "name": "python3",
      "display_name": "Python 3"
    },
    "language_info": {
      "name": "python"
    }
  },
  "cells": [
    {
      "cell_type": "markdown",
      "metadata": {
        "id": "view-in-github",
        "colab_type": "text"
      },
      "source": [
        "<a href=\"https://colab.research.google.com/github/moovingGun/moovingGun/blob/main/DES.ipynb\" target=\"_parent\"><img src=\"https://colab.research.google.com/assets/colab-badge.svg\" alt=\"Open In Colab\"/></a>"
      ]
    },
    {
      "cell_type": "code",
      "execution_count": 1,
      "metadata": {
        "colab": {
          "base_uri": "https://localhost:8080/"
        },
        "id": "ykOn_MlFs8o0",
        "outputId": "f06742d5-0f19-4249-85b8-3460fe82f958"
      },
      "outputs": [
        {
          "output_type": "stream",
          "name": "stdout",
          "text": [
            "plaintext : donggeon\n",
            "key : 4\n",
            "hsrkkisr\n",
            "Hacking key #0: hsrkkisr\n",
            "Hacking key #1: grqjjhrq\n",
            "Hacking key #2: fqpiigqp\n",
            "Hacking key #3: epohhfpo\n",
            "Hacking key #4: donggeon\n",
            "Hacking key #5: cnmffdnm\n",
            "Hacking key #6: bmleecml\n",
            "Hacking key #7: alkddblk\n",
            "Hacking key #8: zkjccakj\n",
            "Hacking key #9: yjibbzji\n",
            "Hacking key #10: xihaayih\n",
            "Hacking key #11: whgzzxhg\n",
            "Hacking key #12: vgfyywgf\n",
            "Hacking key #13: ufexxvfe\n",
            "Hacking key #14: tedwwued\n",
            "Hacking key #15: sdcvvtdc\n",
            "Hacking key #16: rcbuuscb\n",
            "Hacking key #17: qbattrba\n",
            "Hacking key #18: pazssqaz\n",
            "Hacking key #19: ozyrrpzy\n",
            "Hacking key #20: nyxqqoyx\n",
            "Hacking key #21: mxwppnxw\n",
            "Hacking key #22: lwvoomwv\n",
            "Hacking key #23: kvunnlvu\n",
            "Hacking key #24: jutmmkut\n",
            "Hacking key #25: itslljts\n"
          ]
        }
      ],
      "source": [
        "# shift cipher\n",
        "def encrypt(text,key):\n",
        "  result = \"\"\n",
        "  # transverse the plain text\n",
        "  for i in range(len(text)):\n",
        "    char = text[i]\n",
        "    if (char.isupper()):\n",
        "      result += chr((ord(char) + key-65) % 26 + 65)\n",
        "    else:\n",
        "      result += chr((ord(char) + key - 97) % 26 + 97)\n",
        "  return result\n",
        "\n",
        "msg = input(\"plaintext : \")\n",
        "key = input(\"key : \")\n",
        "\n",
        "ciphertext  = encrypt(msg, int(key))\n",
        "print(ciphertext)\n",
        "\n",
        "LETTERS = 'abcdefghijklmnopqrstuvwxyz'\n",
        "for key in range(len(LETTERS)):\n",
        "   translated = ''\n",
        "   for symbol in ciphertext:\n",
        "      if symbol in LETTERS:\n",
        "         num = LETTERS.find(symbol)\n",
        "         num = num - key\n",
        "         if num < 0:\n",
        "            num = num + len(LETTERS)\n",
        "         translated = translated + LETTERS[num]\n",
        "      else:\n",
        "         translated = translated + symbol\n",
        "   print('Hacking key #%s: %s' % (key, translated))"
      ]
    },
    {
      "cell_type": "code",
      "source": [
        "# affine cipher\n",
        "#E(x) = (ax + b)mod m\n",
        "#m: siIJGVXOKJUVRG\n",
        "ze of the alphabet\n",
        "#(a,b): keys of the cipher.\n",
        "def egcd(a, b):\n",
        "  x,y, u,v = 0,1, 1,0\n",
        "  while a != 0:\n",
        "    q, r = b//a, b%a\n",
        "    m, n = x-u*q, y-v*q\n",
        "    b,a, x,y, u,v = a,r, u,v, m,n\n",
        "  gcd = b\n",
        "  return gcd, x, y\n",
        "def modinv(a, m):\n",
        "  gcd, x, y = egcd(a, m)\n",
        "  if gcd != 1:\n",
        "    return None\n",
        "  else:\n",
        "    return x % m\n",
        "\n",
        "def encrypt(text, key):\n",
        "  return ''.join([ chr((( key[0]*(ord(t) - ord('A')) + key[1] ) % 26) + ord('A')) for t in text.upper().replace(' ', '') ])\n",
        "def decrypt(cipher, key):\n",
        "  return ''.join([ chr((( modinv(key[0], 26)*(ord(c) - ord('A') - key[1])) % 26) + ord('A')) for c in cipher ])\n",
        "\n",
        "\n",
        "msg = input(\"plaintext : \")\n",
        "key = [7, 20]\n",
        "enc_text = encrypt(msg, key)\n",
        "print('ciphertext: {}'.format(enc_text))\n",
        "print('decrypted text: {}'.format(decrypt(enc_text, key) ))"
      ],
      "metadata": {
        "colab": {
          "base_uri": "https://localhost:8080/"
        },
        "id": "VBaSJ0iTtG8U",
        "outputId": "e11aecdf-a1b2-40b6-a65d-3030e3bfc16e"
      },
      "execution_count": 2,
      "outputs": [
        {
          "output_type": "stream",
          "name": "stdout",
          "text": [
            "plaintext : cryptography\n",
            "ciphertext: IJGVXOKJUVRG\n",
            "decrypted text: CRYPTOGRAPHY\n"
          ]
        }
      ]
    },
    {
      "cell_type": "code",
      "source": [
        "# substitution cipher\n",
        "alphabet = \"abcdefghijklmnopqrstuvwxyz\"\n",
        "key = \"fcpevqkzgmtrayonujdlwhbxsi\"\n",
        "\n",
        "def encrypt(text, key):\n",
        "  result = \"\"\n",
        "  for letter in text:\n",
        "    if letter.lower() in alphabet:\n",
        "        result += key[alphabet.find(letter.lower())]\n",
        "    else:\n",
        "        result += letter\n",
        "  return(result)\n",
        "\n",
        "\n",
        "msg = input(\"plaintext : \")\n",
        "print(encrypt(msg, key))"
      ],
      "metadata": {
        "colab": {
          "base_uri": "https://localhost:8080/"
        },
        "id": "hBNjC-1WtQIq",
        "outputId": "e1a0a388-abd4-46e9-dcec-f2ac4b94b5e4"
      },
      "execution_count": 3,
      "outputs": [
        {
          "output_type": "stream",
          "name": "stdout",
          "text": [
            "plaintext : cryptography\n",
            "pjsnlokjfnzs\n"
          ]
        }
      ]
    },
    {
      "cell_type": "code",
      "source": [
        "# vigenere cipher\n",
        "def vigenere(message, key):\n",
        "    message = message.lower()\n",
        "    message = message.replace(' ','')\n",
        "    m = len(key)\n",
        "    cipher_text = ''\n",
        "    for i in range(len(message)):\n",
        "        letter = message[i]\n",
        "        k= key[i % m]\n",
        "        cipher_text = cipher_text + chr ((ord(letter) - 97 + k ) % 26 + 97)\n",
        "\n",
        "    return cipher_text\n",
        "\n",
        "\n",
        "msg = input(\"plaintext : \")\n",
        "key = input(\"key : \")\n",
        "\n",
        "key = [ord(letter)-97 for letter in key]\n",
        "ciphertext = vigenere(msg, key)\n",
        "print ('cipher text: ',ciphertext)\n",
        "\n",
        "key = [-1*k for k in key]\n",
        "plaintext =  vigenere(ciphertext, key)\n",
        "print ('Plain text: ', plaintext)"
      ],
      "metadata": {
        "colab": {
          "base_uri": "https://localhost:8080/"
        },
        "id": "FkL1IlkotWUZ",
        "outputId": "46e9c9e2-0b46-47f0-99ce-cced44090ed7"
      },
      "execution_count": 4,
      "outputs": [
        {
          "output_type": "stream",
          "name": "stdout",
          "text": [
            "plaintext : cryptography\n",
            "key : mju\n",
            "cipher text:  oasbcisaubqs\n",
            "Plain text:  cryptography\n"
          ]
        }
      ]
    },
    {
      "cell_type": "code",
      "source": [
        "# 3DES\n",
        "from Crypto.Cipher import DES3\n",
        "\n",
        "key = b'1234567890abcdef'  # 16 bytes\n",
        "iv = b'12345678'\n",
        "cipher1 = DES3.new(key, DES3.MODE_CFB, iv)\n",
        "\n",
        "msg = input(\"plaintext : \")\n",
        "plaintext = bytes(msg, 'utf-8')\n",
        "ciphertext = cipher1.encrypt(plaintext)\n",
        "print('ciphertext : ',ciphertext)\n",
        "\n",
        "cipher2 = DES3.new(key, DES3.MODE_CFB, iv)\n",
        "print(\"decrypting ... \", cipher2.decrypt(ciphertext))"
      ],
      "metadata": {
        "colab": {
          "base_uri": "https://localhost:8080/"
        },
        "id": "a0DjTXwotQNF",
        "outputId": "fba872f4-86e3-4f09-fee3-3c1258573fe8"
      },
      "execution_count": 10,
      "outputs": [
        {
          "output_type": "stream",
          "name": "stdout",
          "text": [
            "plaintext : AAAAAAAAA\n",
            "ciphertext :  b'\\xc8\\xa6\\xb3\\xdfK+y \\x13'\n",
            "decrypting ...  b'AAAAAAAAA'\n"
          ]
        }
      ]
    },
    {
      "cell_type": "code",
      "source": [
        "from random import seed\n",
        "from random import randint\n",
        "\n",
        "key = 826\n",
        "seed(key)\n",
        "\n",
        "for i in range(10):\n",
        "  value = randint(0,100)\n",
        "  print(value)"
      ],
      "metadata": {
        "colab": {
          "base_uri": "https://localhost:8080/"
        },
        "id": "9ldIlW8f3eVx",
        "outputId": "14a9c497-2be2-45e7-847e-22f0deb2584b"
      },
      "execution_count": 15,
      "outputs": [
        {
          "output_type": "stream",
          "name": "stdout",
          "text": [
            "70\n",
            "100\n",
            "81\n",
            "32\n",
            "61\n",
            "45\n",
            "18\n",
            "24\n",
            "79\n",
            "1\n"
          ]
        }
      ]
    }
  ]
}